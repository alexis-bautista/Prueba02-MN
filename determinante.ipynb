{
 "cells": [
  {
   "cell_type": "code",
   "execution_count": 5,
   "metadata": {},
   "outputs": [
    {
     "name": "stdout",
     "output_type": "stream",
     "text": [
      "The autoreload extension is already loaded. To reload it, use:\n",
      "  %reload_ext autoreload\n"
     ]
    }
   ],
   "source": [
    "%load_ext autoreload"
   ]
  },
  {
   "cell_type": "markdown",
   "metadata": {},
   "source": [
    "# Examen"
   ]
  },
  {
   "cell_type": "markdown",
   "metadata": {},
   "source": [
    "## Determinante"
   ]
  },
  {
   "cell_type": "code",
   "execution_count": null,
   "metadata": {},
   "outputs": [],
   "source": [
    "%autoreload 2\n",
    "from src import (\n",
    "    eliminacion_gaussiana,\n",
    "    descomposicion_LU,\n",
    "    resolver_LU,\n",
    "    matriz_aumentada,\n",
    "    separar_m_aumentada,\n",
    ")\n",
    "\n",
    "\n",
    "# ####################################################################\n",
    "def calc_determinante(A: list[list[float]]) -> float:\n",
    "    \"\"\"Función que calcula el determinante usando el método...\n",
    "    [Descomposición LU, eliminación gaussiana, Gauss-Jordan, Gauss-Jacobi o Gauss-Seidel]\n",
    "\n",
    "    ## Parameters\n",
    "    ``A``: Matriz cuadrada de tamaño n x n\n",
    "\n",
    "    ## Return\n",
    "    ``detA``: Determinante de la matriz A\n",
    "\n",
    "    \"\"\"\n",
    "    # completar\n",
    "    return"
   ]
  },
  {
   "cell_type": "markdown",
   "metadata": {},
   "source": [
    "#### Modificaciones"
   ]
  },
  {
   "cell_type": "code",
   "execution_count": 6,
   "metadata": {},
   "outputs": [],
   "source": [
    "def calc_determinante(A: list[list[float]]) -> float:\n",
    "    \"\"\"Función que calcula el determinante usando el método de descomposición LU.\n",
    "\n",
    "    ## Parameters\n",
    "    ``A``: Matriz cuadrada de tamaño n x n\n",
    "\n",
    "    ## Return\n",
    "    ``detA``: Determinante de la matriz A\n",
    "    \"\"\"\n",
    "    # Convertir la matriz A a numpy array\n",
    "    A = np.array(A, dtype=float)\n",
    "\n",
    "    # El determinante de A es el producto de los elementos diagonales de U\n",
    "    detA = np.prod(np.diag(U))\n",
    "    \n",
    "    return detA\n"
   ]
  },
  {
   "cell_type": "markdown",
   "metadata": {},
   "source": [
    "# Ejercicio 1"
   ]
  },
  {
   "cell_type": "code",
   "execution_count": null,
   "metadata": {},
   "outputs": [
    {
     "ename": "NameError",
     "evalue": "name 'np' is not defined",
     "output_type": "error",
     "traceback": [
      "\u001b[1;31m---------------------------------------------------------------------------\u001b[0m",
      "\u001b[1;31mNameError\u001b[0m                                 Traceback (most recent call last)",
      "Cell \u001b[1;32mIn[8], line 34\u001b[0m\n\u001b[0;32m     21\u001b[0m \u001b[38;5;66;03m# Ejemplo de uso:\u001b[39;00m\n\u001b[0;32m     22\u001b[0m A1 \u001b[38;5;241m=\u001b[39m [\n\u001b[0;32m     23\u001b[0m     [\u001b[38;5;241m-\u001b[39m\u001b[38;5;241m4\u001b[39m, \u001b[38;5;241m2\u001b[39m, \u001b[38;5;241m-\u001b[39m\u001b[38;5;241m4\u001b[39m, \u001b[38;5;241m-\u001b[39m\u001b[38;5;241m4\u001b[39m, \u001b[38;5;241m1\u001b[39m, \u001b[38;5;241m2\u001b[39m, \u001b[38;5;241m5\u001b[39m, \u001b[38;5;241m3\u001b[39m, \u001b[38;5;241m5\u001b[39m, \u001b[38;5;241m1\u001b[39m],\n\u001b[0;32m     24\u001b[0m     [\u001b[38;5;241m1\u001b[39m, \u001b[38;5;241m0\u001b[39m, \u001b[38;5;241m4\u001b[39m, \u001b[38;5;241m3\u001b[39m, \u001b[38;5;241m0\u001b[39m, \u001b[38;5;241m-\u001b[39m\u001b[38;5;241m2\u001b[39m, \u001b[38;5;241m3\u001b[39m, \u001b[38;5;241m0\u001b[39m, \u001b[38;5;241m1\u001b[39m, \u001b[38;5;241m5\u001b[39m],\n\u001b[1;32m   (...)\u001b[0m\n\u001b[0;32m     32\u001b[0m     [\u001b[38;5;241m-\u001b[39m\u001b[38;5;241m2\u001b[39m, \u001b[38;5;241m4\u001b[39m, \u001b[38;5;241m4\u001b[39m, \u001b[38;5;241m-\u001b[39m\u001b[38;5;241m2\u001b[39m, \u001b[38;5;241m-\u001b[39m\u001b[38;5;241m1\u001b[39m, \u001b[38;5;241m1\u001b[39m, \u001b[38;5;241m5\u001b[39m, \u001b[38;5;241m-\u001b[39m\u001b[38;5;241m1\u001b[39m, \u001b[38;5;241m3\u001b[39m, \u001b[38;5;241m-\u001b[39m\u001b[38;5;241m3\u001b[39m],\n\u001b[0;32m     33\u001b[0m ]\n\u001b[1;32m---> 34\u001b[0m \u001b[38;5;28mprint\u001b[39m(\u001b[43mcalc_determinante\u001b[49m\u001b[43m(\u001b[49m\u001b[43mA1\u001b[49m\u001b[43m)\u001b[49m)\n",
      "Cell \u001b[1;32mIn[8], line 11\u001b[0m, in \u001b[0;36mcalc_determinante\u001b[1;34m(A)\u001b[0m\n\u001b[0;32m      2\u001b[0m \u001b[38;5;250m\u001b[39m\u001b[38;5;124;03m\"\"\"Función que calcula el determinante usando el método de descomposición LU.\u001b[39;00m\n\u001b[0;32m      3\u001b[0m \n\u001b[0;32m      4\u001b[0m \u001b[38;5;124;03m## Parameters\u001b[39;00m\n\u001b[1;32m   (...)\u001b[0m\n\u001b[0;32m      8\u001b[0m \u001b[38;5;124;03m``detA``: Determinante de la matriz A\u001b[39;00m\n\u001b[0;32m      9\u001b[0m \u001b[38;5;124;03m\"\"\"\u001b[39;00m\n\u001b[0;32m     10\u001b[0m \u001b[38;5;66;03m# Convertir la matriz A a numpy array\u001b[39;00m\n\u001b[1;32m---> 11\u001b[0m A \u001b[38;5;241m=\u001b[39m \u001b[43mnp\u001b[49m\u001b[38;5;241m.\u001b[39marray(A, dtype\u001b[38;5;241m=\u001b[39m\u001b[38;5;28mfloat\u001b[39m)\n\u001b[0;32m     13\u001b[0m \u001b[38;5;66;03m# Obtener las matrices L y U mediante la descomposicion LU\u001b[39;00m\n\u001b[0;32m     14\u001b[0m L, U \u001b[38;5;241m=\u001b[39m descomposicion_LU(A)\n",
      "\u001b[1;31mNameError\u001b[0m: name 'np' is not defined"
     ]
    }
   ],
   "source": [
    "A1 = [\n",
    "    [-4, 2, -4, -4, 1, 2, 5, 3, 5, 1],\n",
    "    [1, 0, 4, 3, 0, -2, 3, 0, 1, 5],\n",
    "    [5, 5, -4, 5, -4, 2, 2, 2, 4, 4],\n",
    "    [-1, 3, 4, -1, -4, 0, 5, 0, 0, 5],\n",
    "    [4, 1, 4, 2, 0, 0, 3, -1, 0, 2],\n",
    "    [2, -2, 1, -1, -2, -3, 2, -2, 4, -1],\n",
    "    [3, -2, -3, -2, -1, -3, 5, -1, 5, 0],\n",
    "    [3, 4, -3, 3, -2, 2, -4, -4, 1, 5],\n",
    "    [-4, 0, 3, 3, -3, -2, -2, 0, 5, -4],\n",
    "    [-2, 4, 4, -2, -1, 1, 5, -1, 3, -3],\n",
    "]\n",
    "calc_determinante(A1)"
   ]
  },
  {
   "cell_type": "markdown",
   "metadata": {},
   "source": [
    "# Ejercicio 2"
   ]
  },
  {
   "cell_type": "code",
   "execution_count": 10,
   "metadata": {},
   "outputs": [],
   "source": [
    "A2 = [\n",
    "    [2, 2, 4, 5, -2, -3, 2, -2],\n",
    "    [-1, -1, 3, 2, 1, 1, -4, 4],\n",
    "    [2, 5, -3, -3, -2, 2, 5, 3],\n",
    "    [-2, -4, 0, 1, -1, 5, -4, -1],\n",
    "    [1, -2, -1, 5, 5, 2, 1, -2],\n",
    "    [5, 4, 0, 3, 4, -1, -3, -2],\n",
    "    [4, -4, 1, 2, 3, 3, -1, 3],\n",
    "    [-2, 1, -3, 0, 5, 4, 4, -4],\n",
    "]\n",
    "calc_determinante(A2)"
   ]
  }
 ],
 "metadata": {
  "kernelspec": {
   "display_name": "Python 3",
   "language": "python",
   "name": "python3"
  },
  "language_info": {
   "codemirror_mode": {
    "name": "ipython",
    "version": 3
   },
   "file_extension": ".py",
   "mimetype": "text/x-python",
   "name": "python",
   "nbconvert_exporter": "python",
   "pygments_lexer": "ipython3",
   "version": "3.10.11"
  }
 },
 "nbformat": 4,
 "nbformat_minor": 2
}
